{
 "cells": [
  {
   "cell_type": "markdown",
   "id": "2Md5hfg2m7vD",
   "metadata": {
    "id": "2Md5hfg2m7vD"
   },
   "source": [
    "Note: Use this template to develop your project. Do not change the steps. For each step, you may add additional cells if needed."
   ]
  },
  {
   "cell_type": "markdown",
   "id": "edEGKK2Fm7vJ",
   "metadata": {
    "id": "edEGKK2Fm7vJ"
   },
   "source": [
    "#### Group Information\n",
    "\n",
    "<!-- Group No: Cancer_6\n",
    "\n",
    "- Member 1: Marcus Chan Jun Hao 157832\n",
    "- Member 2: Chan Yee Shuen 159377\n",
    "- Member 3: Aiman Hakimi Bin Mohd Nor Azmi 153153\n",
    "- Member 4: Ooi Zhun Shen 159751 -->\n"
   ]
  },
  {
   "cell_type": "markdown",
   "id": "fG3WQ-8om7vL",
   "metadata": {
    "id": "fG3WQ-8om7vL"
   },
   "source": [
    "#### Import Libraries"
   ]
  },
  {
   "cell_type": "code",
   "execution_count": 1,
   "id": "tJaCrh8Sm7vM",
   "metadata": {
    "id": "tJaCrh8Sm7vM"
   },
   "outputs": [],
   "source": [
    "%config Completer.use_jedi=False\n",
    "import numpy as np\n",
    "import pandas as pd\n",
    "import matplotlib.pyplot as plt\n",
    "from sklearn.model_selection import train_test_split\n",
    "from sklearn.metrics import r2_score, mean_squared_error, mean_absolute_error"
   ]
  },
  {
   "cell_type": "markdown",
   "id": "VfSXrALYm7vQ",
   "metadata": {
    "id": "VfSXrALYm7vQ"
   },
   "source": [
    "#### Load the dataset"
   ]
  },
  {
   "cell_type": "code",
   "execution_count": 2,
   "id": "uDqxuIlHm7vS",
   "metadata": {
    "id": "uDqxuIlHm7vS"
   },
   "outputs": [],
   "source": [
    "dataset = pd.read_csv('assignment1_dataset.csv')\n",
    "\n",
    "X = dataset.iloc[:,:-1].values\n",
    "y = dataset.iloc[:,-1].values\n",
    "\n",
    "x_0 = np.ones(shape=(X.shape[0], 1))\n",
    "X = np.concatenate((x_0, X), axis=1) # introduce x_0 = 1 feature for convenience"
   ]
  },
  {
   "cell_type": "markdown",
   "id": "hcS4SyGIm7vV",
   "metadata": {
    "id": "hcS4SyGIm7vV"
   },
   "source": [
    "#### Define the loss function"
   ]
  },
  {
   "cell_type": "code",
   "execution_count": 3,
   "id": "r9zsnWHBm7vW",
   "metadata": {
    "id": "r9zsnWHBm7vW"
   },
   "outputs": [],
   "source": [
    "def loss_fn(y, yhat):\n",
    "    \"\"\" Pass two arguments\n",
    "    Arguments:\n",
    "        y: responses\n",
    "        yhat: predicted value\n",
    "    Returns:\n",
    "        loss: loss value\n",
    "    \"\"\"\n",
    "    return np.mean(np.square(yhat - y)) / 2 # loss function used is squared loss\n",
    "    "
   ]
  },
  {
   "cell_type": "markdown",
   "id": "cGdG8TK1m7vZ",
   "metadata": {
    "id": "cGdG8TK1m7vZ"
   },
   "source": [
    "#### Define function to perform prediction"
   ]
  },
  {
   "cell_type": "code",
   "execution_count": 4,
   "id": "kIcD40uqm7vc",
   "metadata": {
    "id": "kIcD40uqm7vc"
   },
   "outputs": [],
   "source": [
    "def predict(w,x):\n",
    "    \"\"\" Pass two arguments\n",
    "    Arguments:\n",
    "        w: weights\n",
    "        X: input features\n",
    "    Returns:\n",
    "        yhat: predicted values\n",
    "    \"\"\"\n",
    "    return np.dot(x, w) # returns an m-dimensional vector\n",
    "    "
   ]
  },
  {
   "cell_type": "markdown",
   "id": "ZtbjEmuom7vf",
   "metadata": {
    "id": "ZtbjEmuom7vf"
   },
   "source": [
    "#### Define function for model training\n",
    "Display the training loss value for each epoch of the training loop. The displayed value must be in 3 decimal places."
   ]
  },
  {
   "cell_type": "code",
   "execution_count": 5,
   "id": "nuir3spCm7vi",
   "metadata": {
    "id": "nuir3spCm7vi"
   },
   "outputs": [],
   "source": [
    "def train_model(X, y, alpha, max_epoch):\n",
    "    \"\"\" Pass four arguments\n",
    "    Arguments:\n",
    "        X: input features\n",
    "        y: responses\n",
    "        alpha: learning rate\n",
    "        max_epoch: maximum epochs\n",
    "    Returns:\n",
    "        w: estimated weights\n",
    "        hist_loss: training loss history\n",
    "    \"\"\"\n",
    "    m, n = X.shape\n",
    "    w = np.random.randn(n) # initialise vector w to random values\n",
    "    hist_loss = []\n",
    "    \n",
    "    for i in range(max_epoch):\n",
    "        yhat = predict(w, X)\n",
    "        training_loss = loss_fn(y, yhat)\n",
    "        w -= (alpha / m) * X.T.dot(yhat - y) # X.T.dot(yhat - y) is the gradient\n",
    "        print(f'Iteration {i+1}: {training_loss:.3f}')\n",
    "        hist_loss.append(training_loss)\n",
    "        \n",
    "    return w, hist_loss"
   ]
  },
  {
   "cell_type": "markdown",
   "id": "qcBWGs0sm7vk",
   "metadata": {
    "id": "qcBWGs0sm7vk"
   },
   "source": [
    "#### Split the dataset\n",
    "The ratio of training and test is 8:2."
   ]
  },
  {
   "cell_type": "code",
   "execution_count": 6,
   "id": "96luR3yQm7vl",
   "metadata": {
    "id": "96luR3yQm7vl"
   },
   "outputs": [],
   "source": [
    "X_train, X_test, y_train, y_test = train_test_split(X, y, test_size=0.2, random_state=42)"
   ]
  },
  {
   "cell_type": "markdown",
   "id": "_WCgPRPIm7vm",
   "metadata": {
    "id": "_WCgPRPIm7vm"
   },
   "source": [
    "#### Train the model"
   ]
  },
  {
   "cell_type": "code",
   "execution_count": 7,
   "id": "g2qNr_Ykm7vn",
   "metadata": {
    "colab": {
     "base_uri": "https://localhost:8080/"
    },
    "id": "g2qNr_Ykm7vn",
    "outputId": "28100933-cc08-4ca1-d1b4-4ffa46697580"
   },
   "outputs": [
    {
     "name": "stdout",
     "output_type": "stream",
     "text": [
      "Iteration 1: 867.352\n",
      "Iteration 2: 813.140\n",
      "Iteration 3: 762.381\n",
      "Iteration 4: 714.855\n",
      "Iteration 5: 670.353\n",
      "Iteration 6: 628.684\n",
      "Iteration 7: 589.666\n",
      "Iteration 8: 553.129\n",
      "Iteration 9: 518.915\n",
      "Iteration 10: 486.876\n",
      "Iteration 11: 456.873\n",
      "Iteration 12: 428.775\n",
      "Iteration 13: 402.462\n",
      "Iteration 14: 377.819\n",
      "Iteration 15: 354.740\n",
      "Iteration 16: 333.125\n",
      "Iteration 17: 312.881\n",
      "Iteration 18: 293.921\n",
      "Iteration 19: 276.162\n",
      "Iteration 20: 259.528\n",
      "Iteration 21: 243.948\n",
      "Iteration 22: 229.355\n",
      "Iteration 23: 215.685\n",
      "Iteration 24: 202.880\n",
      "Iteration 25: 190.886\n",
      "Iteration 26: 179.650\n",
      "Iteration 27: 169.124\n",
      "Iteration 28: 159.263\n",
      "Iteration 29: 150.026\n",
      "Iteration 30: 141.372\n",
      "Iteration 31: 133.264\n",
      "Iteration 32: 125.668\n",
      "Iteration 33: 118.551\n",
      "Iteration 34: 111.883\n",
      "Iteration 35: 105.636\n",
      "Iteration 36: 99.782\n",
      "Iteration 37: 94.298\n",
      "Iteration 38: 89.158\n",
      "Iteration 39: 84.343\n",
      "Iteration 40: 79.830\n",
      "Iteration 41: 75.602\n",
      "Iteration 42: 71.639\n",
      "Iteration 43: 67.926\n",
      "Iteration 44: 64.446\n",
      "Iteration 45: 61.185\n",
      "Iteration 46: 58.129\n",
      "Iteration 47: 55.265\n",
      "Iteration 48: 52.580\n",
      "Iteration 49: 50.064\n",
      "Iteration 50: 47.706\n",
      "Iteration 51: 45.496\n",
      "Iteration 52: 43.425\n",
      "Iteration 53: 41.483\n",
      "Iteration 54: 39.663\n",
      "Iteration 55: 37.957\n",
      "Iteration 56: 36.357\n",
      "Iteration 57: 34.858\n",
      "Iteration 58: 33.453\n",
      "Iteration 59: 32.136\n",
      "Iteration 60: 30.900\n",
      "Iteration 61: 29.743\n",
      "Iteration 62: 28.657\n",
      "Iteration 63: 27.639\n",
      "Iteration 64: 26.685\n",
      "Iteration 65: 25.791\n",
      "Iteration 66: 24.952\n",
      "Iteration 67: 24.166\n",
      "Iteration 68: 23.428\n",
      "Iteration 69: 22.737\n",
      "Iteration 70: 22.088\n",
      "Iteration 71: 21.481\n",
      "Iteration 72: 20.910\n",
      "Iteration 73: 20.376\n",
      "Iteration 74: 19.875\n",
      "Iteration 75: 19.404\n",
      "Iteration 76: 18.964\n",
      "Iteration 77: 18.550\n",
      "Iteration 78: 18.162\n",
      "Iteration 79: 17.799\n",
      "Iteration 80: 17.457\n",
      "Iteration 81: 17.137\n",
      "Iteration 82: 16.837\n",
      "Iteration 83: 16.556\n",
      "Iteration 84: 16.292\n",
      "Iteration 85: 16.044\n",
      "Iteration 86: 15.812\n",
      "Iteration 87: 15.594\n",
      "Iteration 88: 15.390\n",
      "Iteration 89: 15.198\n",
      "Iteration 90: 15.018\n",
      "Iteration 91: 14.849\n",
      "Iteration 92: 14.691\n",
      "Iteration 93: 14.542\n",
      "Iteration 94: 14.403\n",
      "Iteration 95: 14.272\n",
      "Iteration 96: 14.150\n",
      "Iteration 97: 14.035\n",
      "Iteration 98: 13.927\n",
      "Iteration 99: 13.825\n",
      "Iteration 100: 13.730\n",
      "Iteration 101: 13.641\n",
      "Iteration 102: 13.557\n",
      "Iteration 103: 13.479\n",
      "Iteration 104: 13.405\n",
      "Iteration 105: 13.336\n",
      "Iteration 106: 13.271\n",
      "Iteration 107: 13.210\n",
      "Iteration 108: 13.153\n",
      "Iteration 109: 13.099\n",
      "Iteration 110: 13.048\n",
      "Iteration 111: 13.001\n",
      "Iteration 112: 12.957\n",
      "Iteration 113: 12.915\n",
      "Iteration 114: 12.876\n",
      "Iteration 115: 12.839\n",
      "Iteration 116: 12.805\n",
      "Iteration 117: 12.773\n",
      "Iteration 118: 12.742\n",
      "Iteration 119: 12.714\n",
      "Iteration 120: 12.687\n",
      "Iteration 121: 12.662\n",
      "Iteration 122: 12.638\n",
      "Iteration 123: 12.616\n",
      "Iteration 124: 12.595\n",
      "Iteration 125: 12.576\n",
      "Iteration 126: 12.557\n",
      "Iteration 127: 12.540\n",
      "Iteration 128: 12.524\n",
      "Iteration 129: 12.509\n",
      "Iteration 130: 12.495\n",
      "Iteration 131: 12.481\n",
      "Iteration 132: 12.469\n",
      "Iteration 133: 12.457\n",
      "Iteration 134: 12.446\n",
      "Iteration 135: 12.435\n",
      "Iteration 136: 12.426\n",
      "Iteration 137: 12.417\n",
      "Iteration 138: 12.408\n",
      "Iteration 139: 12.400\n",
      "Iteration 140: 12.392\n",
      "Iteration 141: 12.385\n",
      "Iteration 142: 12.378\n",
      "Iteration 143: 12.372\n",
      "Iteration 144: 12.366\n",
      "Iteration 145: 12.361\n",
      "Iteration 146: 12.355\n",
      "Iteration 147: 12.350\n",
      "Iteration 148: 12.346\n",
      "Iteration 149: 12.342\n",
      "Iteration 150: 12.337\n",
      "Iteration 151: 12.334\n",
      "Iteration 152: 12.330\n",
      "Iteration 153: 12.327\n",
      "Iteration 154: 12.324\n",
      "Iteration 155: 12.321\n",
      "Iteration 156: 12.318\n",
      "Iteration 157: 12.315\n",
      "Iteration 158: 12.313\n",
      "Iteration 159: 12.310\n",
      "Iteration 160: 12.308\n",
      "Iteration 161: 12.306\n",
      "Iteration 162: 12.304\n",
      "Iteration 163: 12.302\n",
      "Iteration 164: 12.301\n",
      "Iteration 165: 12.299\n",
      "Iteration 166: 12.298\n",
      "Iteration 167: 12.296\n",
      "Iteration 168: 12.295\n",
      "Iteration 169: 12.294\n",
      "Iteration 170: 12.292\n",
      "Iteration 171: 12.291\n",
      "Iteration 172: 12.290\n",
      "Iteration 173: 12.289\n",
      "Iteration 174: 12.288\n",
      "Iteration 175: 12.288\n",
      "Iteration 176: 12.287\n",
      "Iteration 177: 12.286\n",
      "Iteration 178: 12.285\n",
      "Iteration 179: 12.285\n",
      "Iteration 180: 12.284\n",
      "Iteration 181: 12.283\n",
      "Iteration 182: 12.283\n",
      "Iteration 183: 12.282\n",
      "Iteration 184: 12.282\n",
      "Iteration 185: 12.281\n",
      "Iteration 186: 12.281\n",
      "Iteration 187: 12.280\n",
      "Iteration 188: 12.280\n",
      "Iteration 189: 12.280\n",
      "Iteration 190: 12.279\n",
      "Iteration 191: 12.279\n",
      "Iteration 192: 12.279\n",
      "Iteration 193: 12.278\n",
      "Iteration 194: 12.278\n",
      "Iteration 195: 12.278\n",
      "Iteration 196: 12.278\n",
      "Iteration 197: 12.278\n",
      "Iteration 198: 12.277\n",
      "Iteration 199: 12.277\n",
      "Iteration 200: 12.277\n",
      "Iteration 201: 12.277\n",
      "Iteration 202: 12.277\n",
      "Iteration 203: 12.276\n",
      "Iteration 204: 12.276\n",
      "Iteration 205: 12.276\n",
      "Iteration 206: 12.276\n",
      "Iteration 207: 12.276\n",
      "Iteration 208: 12.276\n",
      "Iteration 209: 12.276\n",
      "Iteration 210: 12.276\n",
      "Iteration 211: 12.276\n",
      "Iteration 212: 12.275\n",
      "Iteration 213: 12.275\n",
      "Iteration 214: 12.275\n",
      "Iteration 215: 12.275\n",
      "Iteration 216: 12.275\n",
      "Iteration 217: 12.275\n",
      "Iteration 218: 12.275\n",
      "Iteration 219: 12.275\n",
      "Iteration 220: 12.275\n",
      "Iteration 221: 12.275\n",
      "Iteration 222: 12.275\n",
      "Iteration 223: 12.275\n",
      "Iteration 224: 12.275\n",
      "Iteration 225: 12.275\n",
      "Iteration 226: 12.275\n",
      "Iteration 227: 12.275\n",
      "Iteration 228: 12.275\n",
      "Iteration 229: 12.275\n",
      "Iteration 230: 12.274\n",
      "Iteration 231: 12.274\n",
      "Iteration 232: 12.274\n",
      "Iteration 233: 12.274\n",
      "Iteration 234: 12.274\n",
      "Iteration 235: 12.274\n",
      "Iteration 236: 12.274\n",
      "Iteration 237: 12.274\n",
      "Iteration 238: 12.274\n",
      "Iteration 239: 12.274\n",
      "Iteration 240: 12.274\n",
      "Iteration 241: 12.274\n",
      "Iteration 242: 12.274\n",
      "Iteration 243: 12.274\n",
      "Iteration 244: 12.274\n",
      "Iteration 245: 12.274\n",
      "Iteration 246: 12.274\n",
      "Iteration 247: 12.274\n",
      "Iteration 248: 12.274\n",
      "Iteration 249: 12.274\n",
      "Iteration 250: 12.274\n",
      "Iteration 251: 12.274\n",
      "Iteration 252: 12.274\n",
      "Iteration 253: 12.274\n",
      "Iteration 254: 12.274\n",
      "Iteration 255: 12.274\n",
      "Iteration 256: 12.274\n",
      "Iteration 257: 12.274\n",
      "Iteration 258: 12.274\n",
      "Iteration 259: 12.274\n",
      "Iteration 260: 12.274\n",
      "Iteration 261: 12.274\n",
      "Iteration 262: 12.274\n",
      "Iteration 263: 12.274\n",
      "Iteration 264: 12.274\n",
      "Iteration 265: 12.274\n",
      "Iteration 266: 12.274\n",
      "Iteration 267: 12.274\n",
      "Iteration 268: 12.274\n",
      "Iteration 269: 12.274\n",
      "Iteration 270: 12.274\n",
      "Iteration 271: 12.274\n",
      "Iteration 272: 12.274\n",
      "Iteration 273: 12.274\n",
      "Iteration 274: 12.274\n",
      "Iteration 275: 12.274\n",
      "Iteration 276: 12.274\n",
      "Iteration 277: 12.274\n",
      "Iteration 278: 12.274\n",
      "Iteration 279: 12.274\n",
      "Iteration 280: 12.274\n",
      "Iteration 281: 12.274\n",
      "Iteration 282: 12.274\n",
      "Iteration 283: 12.274\n",
      "Iteration 284: 12.274\n",
      "Iteration 285: 12.274\n",
      "Iteration 286: 12.274\n",
      "Iteration 287: 12.274\n",
      "Iteration 288: 12.274\n",
      "Iteration 289: 12.274\n",
      "Iteration 290: 12.274\n",
      "Iteration 291: 12.274\n",
      "Iteration 292: 12.274\n",
      "Iteration 293: 12.274\n",
      "Iteration 294: 12.274\n",
      "Iteration 295: 12.274\n",
      "Iteration 296: 12.274\n",
      "Iteration 297: 12.274\n",
      "Iteration 298: 12.274\n",
      "Iteration 299: 12.274\n",
      "Iteration 300: 12.274\n"
     ]
    }
   ],
   "source": [
    "w, hist_loss = train_model(X_train, y_train, 0.03, 300)"
   ]
  },
  {
   "cell_type": "markdown",
   "id": "98MhKCG6m7vo",
   "metadata": {
    "id": "98MhKCG6m7vo"
   },
   "source": [
    "#### Display the estimated weights"
   ]
  },
  {
   "cell_type": "code",
   "execution_count": 8,
   "id": "YnLlSRnUm7vp",
   "metadata": {
    "colab": {
     "base_uri": "https://localhost:8080/"
    },
    "id": "YnLlSRnUm7vp",
    "outputId": "1b8c1ca3-64cb-4037-ecc6-b193bd5ce085"
   },
   "outputs": [
    {
     "name": "stdout",
     "output_type": "stream",
     "text": [
      "Estimated weights: [ 9.58215602 11.81502217 -0.15076356 -0.09081814 36.78053625  0.14350704]\n"
     ]
    }
   ],
   "source": [
    "print(f'Estimated weights: {w}')"
   ]
  },
  {
   "cell_type": "markdown",
   "id": "MaGpZLpFm7vq",
   "metadata": {
    "id": "MaGpZLpFm7vq"
   },
   "source": [
    "#### Display the training loss against epoch graph"
   ]
  },
  {
   "cell_type": "code",
   "execution_count": 9,
   "id": "Rl30gt59m7vq",
   "metadata": {
    "colab": {
     "base_uri": "https://localhost:8080/",
     "height": 489
    },
    "id": "Rl30gt59m7vq",
    "outputId": "6abb8971-2f3e-449d-e8a5-a06af354679a"
   },
   "outputs": [
    {
     "data": {
      "image/png": "[encoded data removed]",
      "text/plain": [
       "<Figure size 640x480 with 1 Axes>"
      ]
     },
     "metadata": {},
     "output_type": "display_data"
    }
   ],
   "source": [
    "plt.plot(range(300), hist_loss)\n",
    "plt.title('Training loss against epoch')\n",
    "plt.xlabel('Epoch')\n",
    "plt.ylabel('Training loss')\n",
    "\n",
    "plt.show()"
   ]
  },
  {
   "cell_type": "markdown",
   "id": "RW5SHZhdm7vr",
   "metadata": {
    "id": "RW5SHZhdm7vr"
   },
   "source": [
    "#### Predict the test set"
   ]
  },
  {
   "cell_type": "code",
   "execution_count": 10,
   "id": "WWX0-Owrm7vt",
   "metadata": {
    "id": "WWX0-Owrm7vt"
   },
   "outputs": [],
   "source": [
    "y_test_pred = predict(w, X_test) # predict the test set using estimated weights"
   ]
  },
  {
   "cell_type": "markdown",
   "id": "mqjxjB_pm7vu",
   "metadata": {
    "id": "mqjxjB_pm7vu"
   },
   "source": [
    "#### Display the r2 score, mean squared error and mean absolute error"
   ]
  },
  {
   "cell_type": "code",
   "execution_count": 11,
   "id": "1vMutRspm7vv",
   "metadata": {
    "colab": {
     "base_uri": "https://localhost:8080/"
    },
    "id": "1vMutRspm7vv",
    "outputId": "15e43f5f-4597-4b09-d84e-c3aaad1b6525"
   },
   "outputs": [
    {
     "name": "stdout",
     "output_type": "stream",
     "text": [
      "R2 score = 0.9841552850676732\n",
      "Mean squared error = 26.879358273799323\n",
      "Mean absolute error = 4.127549167320317\n"
     ]
    }
   ],
   "source": [
    "r2_score = r2_score(y_test, y_test_pred)\n",
    "mse = mean_squared_error(y_test, y_test_pred)\n",
    "mae = mean_absolute_error(y_test, y_test_pred)\n",
    "\n",
    "print(f'R2 score = {r2_score}')\n",
    "print(f'Mean squared error = {mse}')\n",
    "print(f'Mean absolute error = {mae}')"
   ]
  }
 ],
 "metadata": {
  "colab": {
   "provenance": []
  },
  "kernelspec": {
   "display_name": "Python 3 (ipykernel)",
   "language": "python",
   "name": "python3"
  },
  "language_info": {
   "codemirror_mode": {
    "name": "ipython",
    "version": 3
   },
   "file_extension": ".py",
   "mimetype": "text/x-python",
   "name": "python",
   "nbconvert_exporter": "python",
   "pygments_lexer": "ipython3",
   "version": "3.11.3"
  }
 },
 "nbformat": 4,
 "nbformat_minor": 5
}
