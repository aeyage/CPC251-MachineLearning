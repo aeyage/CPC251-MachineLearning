{
  "cells": [
    {
      "cell_type": "markdown",
      "metadata": {
        "id": "view-in-github",
        "colab_type": "text"
      },
      "source": [
        "<a href=\"https://colab.research.google.com/github/aeyage/CPC251-MachineLearning/blob/main/CPC251_Project__Part1_Group.ipynb\" target=\"_parent\"><img src=\"https://colab.research.google.com/assets/colab-badge.svg\" alt=\"Open In Colab\"/></a>"
      ]
    },
    {
      "cell_type": "markdown",
      "metadata": {
        "id": "mOq8_W_4uZBn"
      },
      "source": [
        "#### Instruction\n",
        "- Use this template to develop your project. Do not change the steps. \n",
        "- For each step, you may add additional cells if needed.\n",
        "- Describe the steps in the \"Description:\" field."
      ]
    },
    {
      "cell_type": "markdown",
      "metadata": {
        "id": "AbOaVpOtuZCl"
      },
      "source": [
        "#### Group Information\n",
        "\n",
        "Group No: \n",
        "\n",
        "- Member 1: \n",
        "- Member 2: \n",
        "- Member 3: \n",
        "- Member 4:\n"
      ]
    },
    {
      "cell_type": "markdown",
      "metadata": {
        "id": "DAmGXEFjuZCm"
      },
      "source": [
        "#### Import libraries"
      ]
    },
    {
      "cell_type": "code",
      "execution_count": null,
      "metadata": {
        "id": "gu7LCzdiuZCm"
      },
      "outputs": [],
      "source": [
        "%config Completer.use_jedi=False\n"
      ]
    },
    {
      "cell_type": "markdown",
      "metadata": {
        "id": "Wbn2iQJquZCn"
      },
      "source": [
        "#### Load the dataset"
      ]
    },
    {
      "cell_type": "code",
      "execution_count": null,
      "metadata": {
        "id": "GG0UvduguZCz"
      },
      "outputs": [],
      "source": []
    },
    {
      "cell_type": "markdown",
      "metadata": {
        "id": "USEYRkFduZC0"
      },
      "source": [
        "#### Split the dataset\n",
        "Split the dataset into training, validation and test sets."
      ]
    },
    {
      "cell_type": "code",
      "execution_count": null,
      "metadata": {
        "id": "KfeTtGsGuZC0"
      },
      "outputs": [],
      "source": []
    },
    {
      "cell_type": "markdown",
      "metadata": {
        "id": "Cc2-sdufuZC0"
      },
      "source": [
        "#### Data preprocessing\n",
        "Perform data preprocessing such as normalization, standardization, label encoding etc.\n",
        "______________________________________________________________________________________\n",
        "Description:"
      ]
    },
    {
      "cell_type": "code",
      "execution_count": null,
      "metadata": {
        "id": "8VD6mumeuZC0"
      },
      "outputs": [],
      "source": []
    },
    {
      "cell_type": "markdown",
      "metadata": {
        "id": "o6kpo-x4uZC0"
      },
      "source": [
        "#### Feature Selection\n",
        "Perform feature selection to select the relevant features.\n",
        "______________________________________________________________________________________\n",
        "Description:"
      ]
    },
    {
      "cell_type": "code",
      "execution_count": null,
      "metadata": {
        "id": "CQAuHg2EuZC1"
      },
      "outputs": [],
      "source": []
    },
    {
      "cell_type": "markdown",
      "metadata": {
        "id": "RZxp3RBSuZC1"
      },
      "source": [
        "#### Data modeling\n",
        "Build the machine learning models. You must build atleast two (2) predictive models. One of the predictive models must be either Decision Tree or Support Vector Machine.\n",
        "______________________________________________________________________________________\n",
        "Description:"
      ]
    },
    {
      "cell_type": "code",
      "execution_count": null,
      "metadata": {
        "id": "c1hYaZAauZC1"
      },
      "outputs": [],
      "source": []
    },
    {
      "cell_type": "markdown",
      "metadata": {
        "id": "AnJFnB36uZC1"
      },
      "source": [
        "#### Evaluate the models\n",
        "Perform a comparison between the predictive models. <br>\n",
        "Report the accuracy, recall, precision and F1-score measures as well as the confusion matrix if it is a classification problem. <br>\n",
        "Report the R2 score, mean squared error and mean absolute error if it is a regression problem.\n",
        "______________________________________________________________________________________\n",
        "Description:"
      ]
    },
    {
      "cell_type": "code",
      "execution_count": null,
      "metadata": {
        "id": "l7tpefQmuZC1"
      },
      "outputs": [],
      "source": []
    }
  ],
  "metadata": {
    "kernelspec": {
      "display_name": "Python 3",
      "language": "python",
      "name": "python3"
    },
    "language_info": {
      "codemirror_mode": {
        "name": "ipython",
        "version": 3
      },
      "file_extension": ".py",
      "mimetype": "text/x-python",
      "name": "python",
      "nbconvert_exporter": "python",
      "pygments_lexer": "ipython3",
      "version": "3.7.9"
    },
    "colab": {
      "provenance": [],
      "include_colab_link": true
    }
  },
  "nbformat": 4,
  "nbformat_minor": 0
}