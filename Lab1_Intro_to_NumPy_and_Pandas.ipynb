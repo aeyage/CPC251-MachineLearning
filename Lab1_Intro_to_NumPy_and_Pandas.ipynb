{
  "nbformat": 4,
  "nbformat_minor": 0,
  "metadata": {
    "colab": {
      "provenance": [],
      "authorship_tag": "ABX9TyPd68Ggdhdgo70gjpE/2B7H",
      "include_colab_link": true
    },
    "kernelspec": {
      "name": "python3",
      "display_name": "Python 3"
    },
    "language_info": {
      "name": "python"
    }
  },
  "cells": [
    {
      "cell_type": "markdown",
      "metadata": {
        "id": "view-in-github",
        "colab_type": "text"
      },
      "source": [
        "<a href=\"https://colab.research.google.com/github/aeyage/CPC251-MachineLearning/blob/main/Lab1_Intro_to_NumPy_and_Pandas.ipynb\" target=\"_parent\"><img src=\"https://colab.research.google.com/assets/colab-badge.svg\" alt=\"Open In Colab\"/></a>"
      ]
    },
    {
      "cell_type": "markdown",
      "source": [
        "**Creating Arrays** - First we need to import NumPy library. To create an array is to use the array function."
      ],
      "metadata": {
        "id": "4S1l_QdvyeBR"
      }
    },
    {
      "cell_type": "code",
      "execution_count": 1,
      "metadata": {
        "id": "7gBsg3TJx86i"
      },
      "outputs": [],
      "source": [
        "import numpy as np"
      ]
    },
    {
      "cell_type": "code",
      "source": [
        "data1 = [2, 5, 4, 8, 0, 1]\n",
        "arr1 = np.array(data1)"
      ],
      "metadata": {
        "id": "unsGTZop4rXI"
      },
      "execution_count": 2,
      "outputs": []
    },
    {
      "cell_type": "code",
      "source": [
        "arr1"
      ],
      "metadata": {
        "colab": {
          "base_uri": "https://localhost:8080/"
        },
        "id": "l6l9vYow4wqD",
        "outputId": "266c124c-b96c-4b33-d503-e72eb785ccf6"
      },
      "execution_count": 3,
      "outputs": [
        {
          "output_type": "execute_result",
          "data": {
            "text/plain": [
              "array([2, 5, 4, 8, 0, 1])"
            ]
          },
          "metadata": {},
          "execution_count": 3
        }
      ]
    },
    {
      "cell_type": "markdown",
      "source": [
        "We can create an array using **arange**. It is a NumPy function that generates \n",
        "values within half-open interval **[start, stop)**. By default, the step size is 1. \n",
        "Here, we generate a sequence of values from 0 to 19."
      ],
      "metadata": {
        "id": "TRrCBnK15fuk"
      }
    },
    {
      "cell_type": "code",
      "source": [
        "arr1 = np.arange(0,20)"
      ],
      "metadata": {
        "id": "YMbtbSlc6Pcm"
      },
      "execution_count": 5,
      "outputs": []
    },
    {
      "cell_type": "code",
      "source": [
        "arr1"
      ],
      "metadata": {
        "colab": {
          "base_uri": "https://localhost:8080/"
        },
        "id": "npIz1W4f6obV",
        "outputId": "0266246d-6818-450c-847a-f8beb97954d4"
      },
      "execution_count": 6,
      "outputs": [
        {
          "output_type": "execute_result",
          "data": {
            "text/plain": [
              "array([ 0,  1,  2,  3,  4,  5,  6,  7,  8,  9, 10, 11, 12, 13, 14, 15, 16,\n",
              "       17, 18, 19])"
            ]
          },
          "metadata": {},
          "execution_count": 6
        }
      ]
    }
  ]
}