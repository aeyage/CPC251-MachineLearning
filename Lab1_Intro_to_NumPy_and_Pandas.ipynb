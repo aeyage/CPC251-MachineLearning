{
  "cells": [
    {
      "cell_type": "markdown",
      "metadata": {
        "id": "view-in-github",
        "colab_type": "text"
      },
      "source": [
        "<a href=\"https://colab.research.google.com/github/aeyage/CPC251-MachineLearning/blob/main/Lab1_Intro_to_NumPy_and_Pandas.ipynb\" target=\"_parent\"><img src=\"https://colab.research.google.com/assets/colab-badge.svg\" alt=\"Open In Colab\"/></a>"
      ]
    },
    {
      "cell_type": "markdown",
      "source": [
        "**Creating Arrays** - First we need to import NumPy library. To create an array is to use the array function."
      ],
      "metadata": {
        "id": "4S1l_QdvyeBR",
        "cell_id": "bfda7931c8c64106a9404fe29123263d",
        "deepnote_cell_type": "markdown"
      }
    },
    {
      "cell_type": "code",
      "source": [
        "import numpy as np"
      ],
      "metadata": {
        "id": "7gBsg3TJx86i",
        "cell_id": "07c51bbd941446ada0b31fce4e57ae33",
        "source_hash": "c2602aa8",
        "execution_start": 1680449250418,
        "execution_millis": 17,
        "deepnote_to_be_reexecuted": false,
        "deepnote_cell_type": "code"
      },
      "outputs": [],
      "execution_count": 1
    },
    {
      "cell_type": "code",
      "source": [
        "data1 = [2, 5, 4, 8, 0, 1]\n",
        "arr1 = np.array(data1)"
      ],
      "metadata": {
        "id": "unsGTZop4rXI",
        "cell_id": "5370985aeb5c4a629ec36dc207151e9a",
        "source_hash": "86ece5d3",
        "execution_start": 1680449250419,
        "execution_millis": 16,
        "deepnote_to_be_reexecuted": false,
        "deepnote_cell_type": "code"
      },
      "outputs": [],
      "execution_count": 2
    },
    {
      "cell_type": "code",
      "source": [
        "arr1"
      ],
      "metadata": {
        "id": "l6l9vYow4wqD",
        "colab": {
          "base_uri": "https://localhost:8080/"
        },
        "cell_id": "57f1256c922a4887b79a6ac6f784c1f6",
        "outputId": "febdaa12-e24c-45b8-b3e0-60710ce736db",
        "source_hash": "b8158779",
        "execution_start": 1680449250421,
        "execution_millis": 15,
        "deepnote_to_be_reexecuted": false,
        "deepnote_cell_type": "code"
      },
      "outputs": [
        {
          "output_type": "execute_result",
          "data": {
            "text/plain": [
              "array([2, 5, 4, 8, 0, 1])"
            ]
          },
          "metadata": {},
          "execution_count": 3
        }
      ],
      "execution_count": 3
    },
    {
      "cell_type": "markdown",
      "source": [
        "We can create an array using **arange**. It is a NumPy function that generates \n",
        "values within half-open interval **[start, stop)**. By default, the step size is 1. \n",
        "Here, we generate a sequence of values from 0 to 19."
      ],
      "metadata": {
        "id": "TRrCBnK15fuk",
        "cell_id": "8ef89f60c26f4931bd9d073de83c35f3",
        "deepnote_cell_type": "markdown"
      }
    },
    {
      "cell_type": "code",
      "source": [
        "arr1 = np.arange(0,20)"
      ],
      "metadata": {
        "id": "YMbtbSlc6Pcm",
        "cell_id": "99c212ca36bf4c78ab5bafcfb0cb94f2",
        "source_hash": "b196c99f",
        "execution_start": 1680449250423,
        "execution_millis": 13,
        "deepnote_to_be_reexecuted": false,
        "deepnote_cell_type": "code"
      },
      "outputs": [],
      "execution_count": 4
    },
    {
      "cell_type": "code",
      "source": [
        "arr1"
      ],
      "metadata": {
        "id": "npIz1W4f6obV",
        "colab": {
          "base_uri": "https://localhost:8080/"
        },
        "cell_id": "cb5a8718c625426e914fbd7becdc3b3c",
        "outputId": "51322631-4080-490f-87e3-9816dd41f850",
        "source_hash": "b8158779",
        "execution_start": 1680449250452,
        "execution_millis": 3,
        "deepnote_to_be_reexecuted": false,
        "deepnote_cell_type": "code"
      },
      "outputs": [
        {
          "output_type": "execute_result",
          "data": {
            "text/plain": [
              "array([ 0,  1,  2,  3,  4,  5,  6,  7,  8,  9, 10, 11, 12, 13, 14, 15, 16,\n",
              "       17, 18, 19])"
            ]
          },
          "metadata": {},
          "execution_count": 5
        }
      ],
      "execution_count": 5
    },
    {
      "cell_type": "markdown",
      "source": [
        "We can specify a different step size as follows."
      ],
      "metadata": {
        "id": "-JlM0GIb7SEN",
        "cell_id": "04f892fbf11246208402a9b7b93086d8",
        "deepnote_cell_type": "markdown"
      }
    },
    {
      "cell_type": "code",
      "source": [
        "arr1 = np.arange(0,2,0.1)"
      ],
      "metadata": {
        "id": "3ZRlIFCU7T28",
        "cell_id": "275f7e9f68df4526a3caad67aea2577b",
        "source_hash": "e2ef104b",
        "execution_start": 1680449250453,
        "execution_millis": 2,
        "deepnote_to_be_reexecuted": false,
        "deepnote_cell_type": "code"
      },
      "outputs": [],
      "execution_count": 6
    },
    {
      "cell_type": "code",
      "source": [
        "arr1"
      ],
      "metadata": {
        "id": "qT8M4e2D7bW5",
        "colab": {
          "base_uri": "https://localhost:8080/"
        },
        "cell_id": "315b3b5444374d5c9074841ccf72d85d",
        "outputId": "ae20d70a-66a0-4bc9-873a-975b9dbcbb6a",
        "source_hash": "b8158779",
        "execution_start": 1680449250453,
        "execution_millis": 2,
        "deepnote_to_be_reexecuted": false,
        "deepnote_cell_type": "code"
      },
      "outputs": [
        {
          "output_type": "execute_result",
          "data": {
            "text/plain": [
              "array([0. , 0.1, 0.2, 0.3, 0.4, 0.5, 0.6, 0.7, 0.8, 0.9, 1. , 1.1, 1.2,\n",
              "       1.3, 1.4, 1.5, 1.6, 1.7, 1.8, 1.9])"
            ]
          },
          "metadata": {},
          "execution_count": 7
        }
      ],
      "execution_count": 7
    },
    {
      "cell_type": "markdown",
      "source": [
        "There are other functions for creating new arrays. zeros and ones create arrays of 0s and 1s\n",
        "respectively. Here, we use zeros to create an array with length of 10."
      ],
      "metadata": {
        "id": "gK-h2Fr-d7Rf",
        "cell_id": "c175c4cd2fef471994096fef631abc13",
        "deepnote_cell_type": "markdown"
      }
    },
    {
      "cell_type": "code",
      "source": [
        "arr1 = np.zeros(10)"
      ],
      "metadata": {
        "id": "YNRROgCHd9BC",
        "cell_id": "1c4c38e4e11e4253b16f6c35755004e8",
        "source_hash": "29e512cf",
        "execution_start": 1680449250456,
        "execution_millis": 47,
        "deepnote_to_be_reexecuted": false,
        "deepnote_cell_type": "code"
      },
      "outputs": [],
      "execution_count": 8
    },
    {
      "cell_type": "code",
      "source": [
        "arr1"
      ],
      "metadata": {
        "id": "SIpqQX3OeW9L",
        "colab": {
          "base_uri": "https://localhost:8080/"
        },
        "cell_id": "db4646d0758d4838abdddda20c983358",
        "outputId": "aac617c0-023c-449b-c421-3fd6bc22c732",
        "source_hash": "b8158779",
        "execution_start": 1680449250509,
        "execution_millis": 2,
        "deepnote_to_be_reexecuted": false,
        "deepnote_cell_type": "code"
      },
      "outputs": [
        {
          "output_type": "execute_result",
          "data": {
            "text/plain": [
              "array([0., 0., 0., 0., 0., 0., 0., 0., 0., 0.])"
            ]
          },
          "metadata": {},
          "execution_count": 9
        }
      ],
      "execution_count": 9
    },
    {
      "cell_type": "markdown",
      "source": [
        "Here, we use **ones** to create a two dimensional array by passing a tuple as the size of the array."
      ],
      "metadata": {
        "id": "0Qaxs4saejrK",
        "cell_id": "c7c3c8e21ec7443c9f28e5acfc2d0da1",
        "deepnote_cell_type": "markdown"
      }
    },
    {
      "cell_type": "code",
      "source": [
        "arr1 = np.ones((3,4))"
      ],
      "metadata": {
        "id": "cSSiFplqeqLj",
        "cell_id": "d0ee5e53f04b49f191b0aa553c755306",
        "source_hash": "2012bef1",
        "execution_start": 1680449250536,
        "execution_millis": 3,
        "deepnote_to_be_reexecuted": false,
        "deepnote_cell_type": "code"
      },
      "outputs": [],
      "execution_count": 10
    },
    {
      "cell_type": "code",
      "source": [
        "arr1"
      ],
      "metadata": {
        "id": "X9isOAQQeze7",
        "colab": {
          "base_uri": "https://localhost:8080/"
        },
        "cell_id": "ae8eeae374e04c0b8f26ac721e754a3d",
        "outputId": "a03daa62-b25a-4343-992b-eafe66059126",
        "source_hash": "b8158779",
        "execution_start": 1680449250537,
        "execution_millis": 3,
        "deepnote_to_be_reexecuted": false,
        "deepnote_cell_type": "code"
      },
      "outputs": [
        {
          "output_type": "execute_result",
          "data": {
            "text/plain": [
              "array([[1., 1., 1., 1.],\n",
              "       [1., 1., 1., 1.],\n",
              "       [1., 1., 1., 1.]])"
            ]
          },
          "metadata": {},
          "execution_count": 11
        }
      ],
      "execution_count": 11
    },
    {
      "cell_type": "markdown",
      "source": [
        "We can create a multidimensional array by manually specifying the elements. Here, we create an\n",
        "array (arr2) of two dimensions. The shape of the array will be inferred from the data"
      ],
      "metadata": {
        "id": "hxDvxln7fd1h",
        "cell_id": "6a1e26783c814dfcbd2d013e65d90945",
        "deepnote_cell_type": "markdown"
      }
    },
    {
      "cell_type": "code",
      "source": [
        "data2 = [[3, 4.9, -2.5, 1.7],[-5.2, -3.1, 7.4, 3.6], [4.2, 6.8, -4.3, -5.7]]\n",
        "arr2 = np.array(data2)"
      ],
      "metadata": {
        "id": "tIScmR1Hfg7v",
        "cell_id": "4cd657b426904d41a775257d30b81c36",
        "source_hash": "ad084fa",
        "execution_start": 1680449250537,
        "execution_millis": 3,
        "deepnote_to_be_reexecuted": false,
        "deepnote_cell_type": "code"
      },
      "outputs": [],
      "execution_count": 12
    },
    {
      "cell_type": "code",
      "source": [
        "arr2"
      ],
      "metadata": {
        "id": "9U05W258ftTW",
        "colab": {
          "base_uri": "https://localhost:8080/"
        },
        "cell_id": "c55c7eacbb5c450283a6dd3b38b588d5",
        "outputId": "9411ba53-b2bf-4dce-fc9c-142f25b9e3c2",
        "source_hash": "85aff249",
        "execution_start": 1680449250538,
        "execution_millis": 3,
        "deepnote_to_be_reexecuted": false,
        "deepnote_cell_type": "code"
      },
      "outputs": [
        {
          "output_type": "execute_result",
          "data": {
            "text/plain": [
              "array([[ 3. ,  4.9, -2.5,  1.7],\n",
              "       [-5.2, -3.1,  7.4,  3.6],\n",
              "       [ 4.2,  6.8, -4.3, -5.7]])"
            ]
          },
          "metadata": {},
          "execution_count": 13
        }
      ],
      "execution_count": 13
    },
    {
      "cell_type": "markdown",
      "source": [
        "We can confirm this by inspecting the **ndim** and **shape** attributes"
      ],
      "metadata": {
        "id": "WnFMIgzUf-nE",
        "cell_id": "8b403fc11b154cb89f256d5a9695b610",
        "deepnote_cell_type": "markdown"
      }
    },
    {
      "cell_type": "code",
      "source": [
        "arr2.ndim"
      ],
      "metadata": {
        "id": "WYThkMsGgFRw",
        "colab": {
          "base_uri": "https://localhost:8080/"
        },
        "cell_id": "96633a21f6a845c8a3082f92a380562c",
        "outputId": "14db3731-ce5f-493e-aa9a-d159feab4285",
        "source_hash": "d16a1cc4",
        "execution_start": 1680449250541,
        "execution_millis": 2,
        "deepnote_to_be_reexecuted": false,
        "deepnote_cell_type": "code"
      },
      "outputs": [
        {
          "output_type": "execute_result",
          "data": {
            "text/plain": [
              "2"
            ]
          },
          "metadata": {},
          "execution_count": 14
        }
      ],
      "execution_count": 14
    },
    {
      "cell_type": "code",
      "source": [
        "arr2.shape"
      ],
      "metadata": {
        "id": "7cSViojagHvl",
        "colab": {
          "base_uri": "https://localhost:8080/"
        },
        "cell_id": "2d48d2cfb79a41939beedb2077c341f8",
        "outputId": "0a13d8c8-0aec-4572-b3d9-7ece0cebcbfd",
        "source_hash": "36165c7c",
        "execution_start": 1680449250547,
        "execution_millis": 2,
        "deepnote_to_be_reexecuted": false,
        "deepnote_cell_type": "code"
      },
      "outputs": [
        {
          "output_type": "execute_result",
          "data": {
            "text/plain": [
              "(3, 4)"
            ]
          },
          "metadata": {},
          "execution_count": 15
        }
      ],
      "execution_count": 15
    },
    {
      "cell_type": "markdown",
      "source": [
        "**Indexing and Slicing** We can access the elements in the array by using index and square bracket\n",
        "[]. Here, we are accessing the third element in the array.\n"
      ],
      "metadata": {
        "id": "_jWaAxkRgXN6",
        "cell_id": "72aef7eb4ed04985b8b70b73bc27ede2",
        "deepnote_cell_type": "markdown"
      }
    },
    {
      "cell_type": "code",
      "source": [
        "arr1[2]"
      ],
      "metadata": {
        "id": "z5xurvW6gaoQ",
        "colab": {
          "base_uri": "https://localhost:8080/"
        },
        "cell_id": "bf33a3e784ed4f14951c5aaa9fdc6a2d",
        "outputId": "df450b1c-2667-44a4-97aa-0358d3e7509f",
        "source_hash": "32c46b84",
        "execution_start": 1680449250553,
        "execution_millis": 3,
        "deepnote_to_be_reexecuted": false,
        "deepnote_cell_type": "code"
      },
      "outputs": [
        {
          "output_type": "execute_result",
          "data": {
            "text/plain": [
              "array([1., 1., 1., 1.])"
            ]
          },
          "metadata": {},
          "execution_count": 16
        }
      ],
      "execution_count": 16
    },
    {
      "cell_type": "markdown",
      "source": [
        "The same index notation is used to access the elements in multidimensional array. But we need\n",
        "to specify two indexes row,column. Here, we are accessing element at the first row and second\n",
        "column.\n"
      ],
      "metadata": {
        "id": "IPeAM-uehOTn",
        "cell_id": "b1ec6d0a6bab4e7aa5a70f05ca5d10cd",
        "deepnote_cell_type": "markdown"
      }
    },
    {
      "cell_type": "code",
      "source": [
        "arr2[0,1]"
      ],
      "metadata": {
        "id": "aotvslN3hQwc",
        "colab": {
          "base_uri": "https://localhost:8080/"
        },
        "cell_id": "aa9b150a132b4f688d60f6f54c48ed37",
        "outputId": "3a04d31a-9cd6-4ae7-f68c-f1d1841147b8",
        "source_hash": "b479146a",
        "execution_start": 1680449250610,
        "execution_millis": 3,
        "deepnote_to_be_reexecuted": false,
        "deepnote_cell_type": "code"
      },
      "outputs": [
        {
          "output_type": "execute_result",
          "data": {
            "text/plain": [
              "4.9"
            ]
          },
          "metadata": {},
          "execution_count": 17
        }
      ],
      "execution_count": 17
    },
    {
      "cell_type": "markdown",
      "source": [
        "Slicing an array is similar to slicing a list. We need to specify start:stop in the square bracket\n",
        "[]."
      ],
      "metadata": {
        "cell_id": "884b68309f744fc0a5e7c19ce4a1b966",
        "deepnote_cell_type": "markdown",
        "id": "CBStqd49qj4l"
      }
    },
    {
      "cell_type": "code",
      "source": [
        "arr1[2:5]"
      ],
      "metadata": {
        "cell_id": "da074de9bf0e4732a8ae0845a3945656",
        "source_hash": "2230d86d",
        "execution_start": 1680449250661,
        "execution_millis": 2,
        "deepnote_to_be_reexecuted": false,
        "deepnote_cell_type": "code",
        "id": "tZGRTdO_qj4m",
        "outputId": "1f6324fb-f98d-4e3e-d721-a32480c70bae",
        "colab": {
          "base_uri": "https://localhost:8080/"
        }
      },
      "outputs": [
        {
          "output_type": "execute_result",
          "data": {
            "text/plain": [
              "array([[1., 1., 1., 1.]])"
            ]
          },
          "metadata": {},
          "execution_count": 18
        }
      ],
      "execution_count": 18
    },
    {
      "cell_type": "markdown",
      "source": [
        "<a style='text-decoration:none;line-height:16px;display:flex;color:#5B5B62;padding:10px;justify-content:end;' href='https://deepnote.com?utm_source=created-in-deepnote-cell&projectId=a16d3570-cab6-47c7-b438-3d1987d75acc' target=\"_blank\">\n",
        "<img alt='Created in deepnote.com' style='display:inline;max-height:16px;margin:0px;margin-right:7.5px;' src='data:image/svg+xml;base64,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' > </img>\n",
        "Created in <span style='font-weight:600;margin-left:4px;'>Deepnote</span></a>"
      ],
      "metadata": {
        "created_in_deepnote_cell": true,
        "deepnote_cell_type": "markdown",
        "id": "ktegjEVlqj4m"
      }
    },
    {
      "cell_type": "markdown",
      "source": [
        "To slice multidimensional array, we need to specify two **start:stop**, each for row and column.\n",
        "Here, we are selecting the first two rows and last three columns."
      ],
      "metadata": {
        "id": "S7I0qAKorAQd"
      }
    },
    {
      "cell_type": "code",
      "source": [
        "arr2[0:2,1:4]"
      ],
      "metadata": {
        "id": "QKVLDCpNrDTT",
        "outputId": "0893e33a-e38e-482f-9201-1c6bc56bb0f0",
        "colab": {
          "base_uri": "https://localhost:8080/"
        }
      },
      "execution_count": 19,
      "outputs": [
        {
          "output_type": "execute_result",
          "data": {
            "text/plain": [
              "array([[ 4.9, -2.5,  1.7],\n",
              "       [-3.1,  7.4,  3.6]])"
            ]
          },
          "metadata": {},
          "execution_count": 19
        }
      ]
    }
  ],
  "nbformat": 4,
  "nbformat_minor": 0,
  "metadata": {
    "colab": {
      "provenance": [],
      "include_colab_link": true
    },
    "deepnote": {},
    "kernelspec": {
      "name": "python3",
      "display_name": "Python 3"
    },
    "language_info": {
      "name": "python"
    },
    "deepnote_notebook_id": "eb891e5048b34169aab9870c7919a77e",
    "deepnote_execution_queue": []
  }
}