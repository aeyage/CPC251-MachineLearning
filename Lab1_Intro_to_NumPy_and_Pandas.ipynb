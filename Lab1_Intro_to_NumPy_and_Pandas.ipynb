{
  "nbformat": 4,
  "nbformat_minor": 0,
  "metadata": {
    "colab": {
      "provenance": [],
      "authorship_tag": "ABX9TyOMBeE2Xw6IkDGVSc07iAQ+",
      "include_colab_link": true
    },
    "kernelspec": {
      "name": "python3",
      "display_name": "Python 3"
    },
    "language_info": {
      "name": "python"
    }
  },
  "cells": [
    {
      "cell_type": "markdown",
      "metadata": {
        "id": "view-in-github",
        "colab_type": "text"
      },
      "source": [
        "<a href=\"https://colab.research.google.com/github/aeyage/CPC251-MachineLearning/blob/main/Lab1_Intro_to_NumPy_and_Pandas.ipynb\" target=\"_parent\"><img src=\"https://colab.research.google.com/assets/colab-badge.svg\" alt=\"Open In Colab\"/></a>"
      ]
    },
    {
      "cell_type": "markdown",
      "source": [
        "**Creating Arrays** - First we need to import NumPy library. To create an array is to use the array function."
      ],
      "metadata": {
        "id": "4S1l_QdvyeBR"
      }
    },
    {
      "cell_type": "code",
      "execution_count": 2,
      "metadata": {
        "id": "7gBsg3TJx86i"
      },
      "outputs": [],
      "source": [
        "import numpy as np"
      ]
    },
    {
      "cell_type": "code",
      "source": [
        "data1 = [2, 5, 4, 8, 0, 1]\n",
        "arr1 = np.array(data1)"
      ],
      "metadata": {
        "id": "unsGTZop4rXI"
      },
      "execution_count": 3,
      "outputs": []
    },
    {
      "cell_type": "code",
      "source": [
        "arr1"
      ],
      "metadata": {
        "colab": {
          "base_uri": "https://localhost:8080/"
        },
        "id": "l6l9vYow4wqD",
        "outputId": "197a6215-50f4-425c-e4bb-8d56832a60c5"
      },
      "execution_count": 4,
      "outputs": [
        {
          "output_type": "execute_result",
          "data": {
            "text/plain": [
              "array([2, 5, 4, 8, 0, 1])"
            ]
          },
          "metadata": {},
          "execution_count": 4
        }
      ]
    },
    {
      "cell_type": "markdown",
      "source": [
        "We can create an array using **arange**. It is a NumPy function that generates \n",
        "values within half-open interval **[start, stop)**. By default, the step size is 1. \n",
        "Here, we generate a sequence of values from 0 to 19."
      ],
      "metadata": {
        "id": "TRrCBnK15fuk"
      }
    },
    {
      "cell_type": "code",
      "source": [
        "arr1 = np.arange(0,20)"
      ],
      "metadata": {
        "id": "YMbtbSlc6Pcm"
      },
      "execution_count": 5,
      "outputs": []
    },
    {
      "cell_type": "code",
      "source": [
        "arr1"
      ],
      "metadata": {
        "colab": {
          "base_uri": "https://localhost:8080/"
        },
        "id": "npIz1W4f6obV",
        "outputId": "edba76a2-3f46-4d59-fe13-b61587a898a8"
      },
      "execution_count": 6,
      "outputs": [
        {
          "output_type": "execute_result",
          "data": {
            "text/plain": [
              "array([ 0,  1,  2,  3,  4,  5,  6,  7,  8,  9, 10, 11, 12, 13, 14, 15, 16,\n",
              "       17, 18, 19])"
            ]
          },
          "metadata": {},
          "execution_count": 6
        }
      ]
    },
    {
      "cell_type": "markdown",
      "source": [
        "We can specify a different step size as follows."
      ],
      "metadata": {
        "id": "-JlM0GIb7SEN"
      }
    },
    {
      "cell_type": "code",
      "source": [
        "arr1 = np.arange(0,2,0.1)"
      ],
      "metadata": {
        "id": "3ZRlIFCU7T28"
      },
      "execution_count": 7,
      "outputs": []
    },
    {
      "cell_type": "code",
      "source": [
        "arr1"
      ],
      "metadata": {
        "colab": {
          "base_uri": "https://localhost:8080/"
        },
        "id": "qT8M4e2D7bW5",
        "outputId": "3a26970c-8f73-46bd-a035-73b56d9cb638"
      },
      "execution_count": 8,
      "outputs": [
        {
          "output_type": "execute_result",
          "data": {
            "text/plain": [
              "array([0. , 0.1, 0.2, 0.3, 0.4, 0.5, 0.6, 0.7, 0.8, 0.9, 1. , 1.1, 1.2,\n",
              "       1.3, 1.4, 1.5, 1.6, 1.7, 1.8, 1.9])"
            ]
          },
          "metadata": {},
          "execution_count": 8
        }
      ]
    },
    {
      "cell_type": "markdown",
      "source": [
        "There are other functions for creating new arrays. zeros and ones create arrays of 0s and 1s\n",
        "respectively. Here, we use zeros to create an array with length of 10."
      ],
      "metadata": {
        "id": "gK-h2Fr-d7Rf"
      }
    },
    {
      "cell_type": "code",
      "source": [
        "arr1 = np.zeros(10)"
      ],
      "metadata": {
        "id": "YNRROgCHd9BC"
      },
      "execution_count": 9,
      "outputs": []
    },
    {
      "cell_type": "code",
      "source": [
        "arr1"
      ],
      "metadata": {
        "colab": {
          "base_uri": "https://localhost:8080/"
        },
        "id": "SIpqQX3OeW9L",
        "outputId": "ce5ed4a1-e8fb-4c9e-992c-11330df691fb"
      },
      "execution_count": 10,
      "outputs": [
        {
          "output_type": "execute_result",
          "data": {
            "text/plain": [
              "array([0., 0., 0., 0., 0., 0., 0., 0., 0., 0.])"
            ]
          },
          "metadata": {},
          "execution_count": 10
        }
      ]
    },
    {
      "cell_type": "markdown",
      "source": [
        "Here, we use **ones** to create a two dimensional array by passing a tuple as the size of the array."
      ],
      "metadata": {
        "id": "0Qaxs4saejrK"
      }
    },
    {
      "cell_type": "code",
      "source": [
        "arr1 = np.ones((3,4))"
      ],
      "metadata": {
        "id": "cSSiFplqeqLj"
      },
      "execution_count": 11,
      "outputs": []
    },
    {
      "cell_type": "code",
      "source": [
        "arr1"
      ],
      "metadata": {
        "id": "X9isOAQQeze7",
        "outputId": "f5bd6879-fca2-4699-e217-78daaa8dc522",
        "colab": {
          "base_uri": "https://localhost:8080/"
        }
      },
      "execution_count": 12,
      "outputs": [
        {
          "output_type": "execute_result",
          "data": {
            "text/plain": [
              "array([[1., 1., 1., 1.],\n",
              "       [1., 1., 1., 1.],\n",
              "       [1., 1., 1., 1.]])"
            ]
          },
          "metadata": {},
          "execution_count": 12
        }
      ]
    }
  ]
}