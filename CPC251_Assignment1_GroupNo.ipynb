{
  "cells": [
    {
      "cell_type": "markdown",
      "metadata": {
        "id": "view-in-github",
        "colab_type": "text"
      },
      "source": [
        "<a href=\"https://colab.research.google.com/github/aeyage/CPC251-MachineLearning/blob/main/CPC251_Assignment1_GroupNo.ipynb\" target=\"_parent\"><img src=\"https://colab.research.google.com/assets/colab-badge.svg\" alt=\"Open In Colab\"/></a>"
      ]
    },
    {
      "cell_type": "markdown",
      "metadata": {
        "id": "yK6fgvtl-yRR"
      },
      "source": [
        "Note: Use this template to develop your project. Do not change the steps. For each step, you may add additional cells if needed."
      ],
      "id": "yK6fgvtl-yRR"
    },
    {
      "cell_type": "markdown",
      "metadata": {
        "id": "x5-NsoGV-yRU"
      },
      "source": [
        "#### Group Information\n",
        "\n",
        "Group No: \n",
        "\n",
        "- Member 1:\n",
        "- Member 2:\n",
        "- Member 3:\n",
        "- Member 4:"
      ],
      "id": "x5-NsoGV-yRU"
    },
    {
      "cell_type": "markdown",
      "metadata": {
        "id": "rNZZLtme-yRV"
      },
      "source": [
        "#### Import Libraries"
      ],
      "id": "rNZZLtme-yRV"
    },
    {
      "cell_type": "code",
      "execution_count": null,
      "metadata": {
        "id": "2Vu-3R0T-yRW"
      },
      "outputs": [],
      "source": [
        "%config Completer.use_jedi=False\n"
      ],
      "id": "2Vu-3R0T-yRW"
    },
    {
      "cell_type": "markdown",
      "metadata": {
        "id": "3CI5H4kq-yRX"
      },
      "source": [
        "#### Load the dataset"
      ],
      "id": "3CI5H4kq-yRX"
    },
    {
      "cell_type": "code",
      "execution_count": null,
      "metadata": {
        "id": "VqxcKxkU-yRY"
      },
      "outputs": [],
      "source": [
        "dataset = pd.read_csv('assignment1_dataset.csv')\n"
      ],
      "id": "VqxcKxkU-yRY"
    },
    {
      "cell_type": "markdown",
      "metadata": {
        "id": "aKb4VVYJ-yRY"
      },
      "source": [
        "#### Define the loss function"
      ],
      "id": "aKb4VVYJ-yRY"
    },
    {
      "cell_type": "code",
      "execution_count": null,
      "metadata": {
        "id": "JS1UKyvX-yRZ"
      },
      "outputs": [],
      "source": [
        "def loss_fn(y, yhat):\n",
        "    \"\"\" Pass two arguments\n",
        "    Arguments:\n",
        "        y: responses\n",
        "        yhat: predicted value\n",
        "    Returns:\n",
        "        loss: loss value\n",
        "    \"\"\"\n",
        "    "
      ],
      "id": "JS1UKyvX-yRZ"
    },
    {
      "cell_type": "markdown",
      "metadata": {
        "id": "h1QCCMjK-yRZ"
      },
      "source": [
        "#### Define function to perform prediction"
      ],
      "id": "h1QCCMjK-yRZ"
    },
    {
      "cell_type": "code",
      "execution_count": null,
      "metadata": {
        "id": "Vj1eE1g2-yRZ"
      },
      "outputs": [],
      "source": [
        "def predict(w,x):\n",
        "    \"\"\" Pass two arguments\n",
        "    Arguments:\n",
        "        w: weights\n",
        "        X: input features\n",
        "    Returns:\n",
        "        yhat: predicted values\n",
        "    \"\"\"\n",
        "    "
      ],
      "id": "Vj1eE1g2-yRZ"
    },
    {
      "cell_type": "markdown",
      "metadata": {
        "id": "gaOjhG8t-yRa"
      },
      "source": [
        "#### Define function for model training\n",
        "Display the training loss value for each epoch of the training loop. The displayed value must be in 3 decimal places."
      ],
      "id": "gaOjhG8t-yRa"
    },
    {
      "cell_type": "code",
      "execution_count": null,
      "metadata": {
        "id": "x9MB6LB7-yRa"
      },
      "outputs": [],
      "source": [
        "def train_model(X, y, alpha, max_epoch):\n",
        "    \"\"\" Pass four arguments\n",
        "    Arguments:\n",
        "        X: input features\n",
        "        y: responses\n",
        "        alpha: learning rate\n",
        "        max_epoch: maximum epochs\n",
        "    Returns:\n",
        "        w: estimated weights\n",
        "        hist_loss: training loss history\n",
        "    \"\"\"\n",
        "    "
      ],
      "id": "x9MB6LB7-yRa"
    },
    {
      "cell_type": "markdown",
      "metadata": {
        "id": "jFoeWdT6-yRb"
      },
      "source": [
        "#### Split the dataset\n",
        "The ratio of training and test is 8:2."
      ],
      "id": "jFoeWdT6-yRb"
    },
    {
      "cell_type": "code",
      "execution_count": null,
      "metadata": {
        "id": "reRyGote-yRb"
      },
      "outputs": [],
      "source": [],
      "id": "reRyGote-yRb"
    },
    {
      "cell_type": "markdown",
      "metadata": {
        "id": "WaTNXXuh-yRb"
      },
      "source": [
        "#### Train the model"
      ],
      "id": "WaTNXXuh-yRb"
    },
    {
      "cell_type": "code",
      "execution_count": null,
      "metadata": {
        "id": "QH6D3brL-yRb"
      },
      "outputs": [],
      "source": [],
      "id": "QH6D3brL-yRb"
    },
    {
      "cell_type": "markdown",
      "metadata": {
        "id": "usdRa99z-yRb"
      },
      "source": [
        "#### Display the estimated weights"
      ],
      "id": "usdRa99z-yRb"
    },
    {
      "cell_type": "code",
      "execution_count": null,
      "metadata": {
        "id": "leP5pUQC-yRc"
      },
      "outputs": [],
      "source": [],
      "id": "leP5pUQC-yRc"
    },
    {
      "cell_type": "markdown",
      "metadata": {
        "id": "W3Ch-P27-yRc"
      },
      "source": [
        "#### Display the training loss against epoch graph"
      ],
      "id": "W3Ch-P27-yRc"
    },
    {
      "cell_type": "code",
      "execution_count": null,
      "metadata": {
        "id": "oY3ql0vA-yRc"
      },
      "outputs": [],
      "source": [],
      "id": "oY3ql0vA-yRc"
    },
    {
      "cell_type": "markdown",
      "metadata": {
        "id": "VKFGQDnb-yRc"
      },
      "source": [
        "#### Predict the test set"
      ],
      "id": "VKFGQDnb-yRc"
    },
    {
      "cell_type": "code",
      "execution_count": null,
      "metadata": {
        "id": "k_uLCqeZ-yRd"
      },
      "outputs": [],
      "source": [],
      "id": "k_uLCqeZ-yRd"
    },
    {
      "cell_type": "markdown",
      "metadata": {
        "id": "zdyaltD7-yRd"
      },
      "source": [
        "#### Display the r2 score, mean squared error and mean absolute error"
      ],
      "id": "zdyaltD7-yRd"
    },
    {
      "cell_type": "code",
      "execution_count": null,
      "metadata": {
        "id": "01oli0cR-yRd"
      },
      "outputs": [],
      "source": [],
      "id": "01oli0cR-yRd"
    }
  ],
  "metadata": {
    "kernelspec": {
      "display_name": "Python 3",
      "language": "python",
      "name": "python3"
    },
    "language_info": {
      "codemirror_mode": {
        "name": "ipython",
        "version": 3
      },
      "file_extension": ".py",
      "mimetype": "text/x-python",
      "name": "python",
      "nbconvert_exporter": "python",
      "pygments_lexer": "ipython3",
      "version": "3.7.9"
    },
    "colab": {
      "provenance": [],
      "include_colab_link": true
    }
  },
  "nbformat": 4,
  "nbformat_minor": 5
}